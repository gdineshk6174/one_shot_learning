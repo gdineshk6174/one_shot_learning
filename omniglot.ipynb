{
  "nbformat": 4,
  "nbformat_minor": 0,
  "metadata": {
    "colab": {
      "name": "omniglot.ipynb",
      "version": "0.3.2",
      "provenance": [],
      "collapsed_sections": []
    },
    "kernelspec": {
      "name": "python3",
      "display_name": "Python 3"
    },
    "accelerator": "GPU"
  },
  "cells": [
    {
      "cell_type": "markdown",
      "metadata": {
        "id": "blvADtw69wrt",
        "colab_type": "text"
      },
      "source": [
        "**One-shot learning** is an object categorization method where unlike traditional machine learning and deep learning methods where they use hundreds or thousands of samples/images and very large datasets, one-shot learning uses 'one or few samples/ images to categorize the images.\n",
        "Hence the name one-shot learning.\n",
        "\n",
        "In this project i have applied 'Siamese neural network' and other simpler models on 'Omniglot dataset' to see how they perform.. "
      ]
    },
    {
      "cell_type": "code",
      "metadata": {
        "id": "DqIN2Qcn209K",
        "colab_type": "code",
        "colab": {}
      },
      "source": [
        "import os\n",
        "import imageio\n",
        "import math\n",
        "import numpy as np\n",
        "%matplotlib inline\n",
        "import matplotlib.pyplot as plt"
      ],
      "execution_count": 0,
      "outputs": []
    },
    {
      "cell_type": "code",
      "metadata": {
        "id": "MyqvHwGcDbw_",
        "colab_type": "code",
        "colab": {}
      },
      "source": [
        "import numpy.random as rng\n",
        "import numpy as np\n",
        "import os\n",
        "import dill as pickle\n",
        "import matplotlib.pyplot as plt\n",
        "from sklearn.utils import shuffle\n",
        "import cv2\n",
        "import time"
      ],
      "execution_count": 0,
      "outputs": []
    },
    {
      "cell_type": "code",
      "metadata": {
        "id": "teZ_LRcgXyC4",
        "colab_type": "code",
        "outputId": "f5caaddb-a918-49e5-d1b6-fb3b0dcc38cc",
        "colab": {
          "base_uri": "https://localhost:8080/",
          "height": 34
        }
      },
      "source": [
        "import re\n",
        "import numpy as np\n",
        "from PIL import Image\n",
        "\n",
        "from sklearn.model_selection import train_test_split\n",
        "from keras import backend as K\n",
        "from keras.layers import Activation\n",
        "from keras.layers import Input, Lambda, Dense, Dropout, Convolution2D, MaxPooling2D, Flatten\n",
        "from keras.models import Sequential, Model\n",
        "from keras.optimizers import RMSprop"
      ],
      "execution_count": 0,
      "outputs": [
        {
          "output_type": "stream",
          "text": [
            "Using TensorFlow backend.\n"
          ],
          "name": "stderr"
        }
      ]
    },
    {
      "cell_type": "markdown",
      "metadata": {
        "id": "Q15QDmaQZtjC",
        "colab_type": "text"
      },
      "source": [
        "OMNIGLOT DATA SET\n",
        "Description: The Omniglot dataset contains over 1600 handwritten characters from 50 different alphabets. It's used for studying one-shot learning and for developing more human-like learning algorithms."
      ]
    },
    {
      "cell_type": "code",
      "metadata": {
        "id": "oDOda16iYEzg",
        "colab_type": "code",
        "outputId": "22bc7344-9174-4a90-d2a9-dbc81a9c4e03",
        "colab": {
          "base_uri": "https://localhost:8080/",
          "height": 122
        }
      },
      "source": [
        "Image.open(\"images_background/Alphabet_of_the_Magi/character01/0709_01.png\")"
      ],
      "execution_count": 0,
      "outputs": [
        {
          "output_type": "execute_result",
          "data": {
            "image/png": "[encoded data removed]",
            "text/plain": [
              "<PIL.PngImagePlugin.PngImageFile image mode=1 size=105x105 at 0x7F2FA8AB3E48>"
            ]
          },
          "metadata": {
            "tags": []
          },
          "execution_count": 7
        }
      ]
    },
    {
      "cell_type": "code",
      "metadata": {
        "id": "U2Mn49jEYXqR",
        "colab_type": "code",
        "colab": {}
      },
      "source": [
        "# convert image to numpy array\n",
        "def load_image(infilename ) :\n",
        "  img = Image.open( infilename )\n",
        "  img.load()\n",
        "  data = np.asarray( img, dtype=\"int32\" )\n",
        "  return data"
      ],
      "execution_count": 0,
      "outputs": []
    },
    {
      "cell_type": "code",
      "metadata": {
        "id": "zr9Wz1VzYj6p",
        "colab_type": "code",
        "outputId": "2196961c-502b-4815-aba0-64545704c674",
        "colab": {
          "base_uri": "https://localhost:8080/",
          "height": 34
        }
      },
      "source": [
        "img = load_image(\"images_background/Alphabet_of_the_Magi/character01/0709_01.png\")\n",
        "img.shape"
      ],
      "execution_count": 0,
      "outputs": [
        {
          "output_type": "execute_result",
          "data": {
            "text/plain": [
              "(105, 105)"
            ]
          },
          "metadata": {
            "tags": []
          },
          "execution_count": 9
        }
      ]
    },
    {
      "cell_type": "code",
      "metadata": {
        "id": "SyaDftqwP9Rv",
        "colab_type": "code",
        "colab": {}
      },
      "source": [
        "def get_pairs(list):\n",
        "  return zip(range(len(list)), list)"
      ],
      "execution_count": 0,
      "outputs": []
    },
    {
      "cell_type": "code",
      "metadata": {
        "id": "1vt4S8iO2q64",
        "colab_type": "code",
        "colab": {}
      },
      "source": [
        "def get_alphabets(path):\n",
        "  alphabet_names = os.listdir(path)\n",
        "  alphabet_names.sort()\n",
        "  alphabet_dict = {}\n",
        "  alphabet_dict['names'] = alphabet_names\n",
        "  alphabet_dict['sizes'] = []\n",
        "\n",
        "  for alphabet_name in alphabet_names: \n",
        "    alphabet_path = os.path.join(path, alphabet_name)\n",
        "    alphabet = {}\n",
        "    alphabet_dict[alphabet_name] = alphabet\n",
        "    alphabet['name'] = alphabet_name\n",
        "    char_names = os.listdir(alphabet_path)\n",
        "    char_names.sort()\n",
        "    alphabet_size = len(char_names)\n",
        "    alphabet['size'] = alphabet_size\n",
        "    alphabet_dict['sizes'].append(alphabet_size)\n",
        "\n",
        "    for char_idx, char_name in get_pairs(char_names):\n",
        "      char_path = os.path.join(alphabet_path, char_name)\n",
        "      example_names = os.listdir(char_path)\n",
        "      example_names.sort()\n",
        "\n",
        "      for example_idx, example_name in get_pairs(example_names):\n",
        "        image_path = os.path.join(char_path, example_name)\n",
        "        image = imageio.imread(image_path)\n",
        "        alphabet[(char_idx, example_idx)] = 255 - image\n",
        "        \n",
        "  return alphabet_dict"
      ],
      "execution_count": 0,
      "outputs": []
    },
    {
      "cell_type": "code",
      "metadata": {
        "id": "5PKDpoQl2sNj",
        "colab_type": "code",
        "colab": {}
      },
      "source": [
        "train_path = 'images_background'\n",
        "train_data = get_alphabets(train_path)\n",
        "\n",
        "val_path = 'images_evaluation'\n",
        "val_data = get_alphabets(val_path)"
      ],
      "execution_count": 0,
      "outputs": []
    },
    {
      "cell_type": "code",
      "metadata": {
        "id": "1HmNiidSoN-d",
        "colab_type": "code",
        "outputId": "14dc798a-0213-43d2-a415-c6ea362e532e",
        "colab": {
          "base_uri": "https://localhost:8080/",
          "height": 527
        }
      },
      "source": [
        "'''list of all the names of languages in the training(images_background) data'''\n",
        "train_data['names']"
      ],
      "execution_count": 0,
      "outputs": [
        {
          "output_type": "execute_result",
          "data": {
            "text/plain": [
              "['Alphabet_of_the_Magi',\n",
              " 'Anglo-Saxon_Futhorc',\n",
              " 'Arcadian',\n",
              " 'Armenian',\n",
              " 'Asomtavruli_(Georgian)',\n",
              " 'Balinese',\n",
              " 'Bengali',\n",
              " 'Blackfoot_(Canadian_Aboriginal_Syllabics)',\n",
              " 'Braille',\n",
              " 'Burmese_(Myanmar)',\n",
              " 'Cyrillic',\n",
              " 'Early_Aramaic',\n",
              " 'Futurama',\n",
              " 'Grantha',\n",
              " 'Greek',\n",
              " 'Gujarati',\n",
              " 'Hebrew',\n",
              " 'Inuktitut_(Canadian_Aboriginal_Syllabics)',\n",
              " 'Japanese_(hiragana)',\n",
              " 'Japanese_(katakana)',\n",
              " 'Korean',\n",
              " 'Latin',\n",
              " 'Malay_(Jawi_-_Arabic)',\n",
              " 'Mkhedruli_(Georgian)',\n",
              " 'N_Ko',\n",
              " 'Ojibwe_(Canadian_Aboriginal_Syllabics)',\n",
              " 'Sanskrit',\n",
              " 'Syriac_(Estrangelo)',\n",
              " 'Tagalog',\n",
              " 'Tifinagh']"
            ]
          },
          "metadata": {
            "tags": []
          },
          "execution_count": 13
        }
      ]
    },
    {
      "cell_type": "code",
      "metadata": {
        "id": "8nsA02qyShuU",
        "colab_type": "code",
        "outputId": "f5a32d1c-f745-4e31-83ed-c4e71195788d",
        "colab": {
          "base_uri": "https://localhost:8080/",
          "height": 357
        }
      },
      "source": [
        "'''list of all the names of languages in the validation(images_evaluation) data'''\n",
        "val_data['names']"
      ],
      "execution_count": 0,
      "outputs": [
        {
          "output_type": "execute_result",
          "data": {
            "text/plain": [
              "['Angelic',\n",
              " 'Atemayar_Qelisayer',\n",
              " 'Atlantean',\n",
              " 'Aurek-Besh',\n",
              " 'Avesta',\n",
              " 'Ge_ez',\n",
              " 'Glagolitic',\n",
              " 'Gurmukhi',\n",
              " 'Kannada',\n",
              " 'Keble',\n",
              " 'Malayalam',\n",
              " 'Manipuri',\n",
              " 'Mongolian',\n",
              " 'Old_Church_Slavonic_(Cyrillic)',\n",
              " 'Oriya',\n",
              " 'Sylheti',\n",
              " 'Syriac_(Serto)',\n",
              " 'Tengwar',\n",
              " 'Tibetan',\n",
              " 'ULOG']"
            ]
          },
          "metadata": {
            "tags": []
          },
          "execution_count": 14
        }
      ]
    },
    {
      "cell_type": "code",
      "metadata": {
        "id": "kKokpTS9pBsn",
        "colab_type": "code",
        "colab": {}
      },
      "source": [
        "# displaying all the alphabets of a language\n",
        "def display_alphabet(alphabet, example_idx=0):\n",
        "  table_size = math.ceil(math.sqrt(alphabet['size']))\n",
        "  plt.figure(figsize=(10, 10))\n",
        "  for char_idx in range(alphabet['size']):\n",
        "    plt.subplot(table_size, table_size, char_idx + 1)\n",
        "    plt.xticks([])\n",
        "    plt.yticks([])\n",
        "    plt.grid(False)\n",
        "    plt.imshow(alphabet[(char_idx, example_idx)], cmap='gray_r')\n",
        "  plt.show()"
      ],
      "execution_count": 0,
      "outputs": []
    },
    {
      "cell_type": "code",
      "metadata": {
        "id": "DEAHhnmIpZoj",
        "colab_type": "code",
        "outputId": "466738a3-7577-45c2-dfc6-56dc572c385a",
        "colab": {
          "base_uri": "https://localhost:8080/",
          "height": 488
        }
      },
      "source": [
        "# alphabets of Futurama - first image from each character of each alphabet of the language\n",
        "display_alphabet(train_data['Futurama'])"
      ],
      "execution_count": 0,
      "outputs": [
        {
          "output_type": "display_data",
          "data": {
            "image/png": "[encoded data removed]",
            "text/plain": [
              "<Figure size 720x720 with 26 Axes>"
            ]
          },
          "metadata": {
            "tags": []
          }
        }
      ]
    },
    {
      "cell_type": "code",
      "metadata": {
        "id": "VpqvOXZzpZle",
        "colab_type": "code",
        "outputId": "9df99f16-230d-460c-a413-2ef46e7b549e",
        "colab": {
          "base_uri": "https://localhost:8080/",
          "height": 582
        }
      },
      "source": [
        "# alphabets of Greek - first image from each character of each alphabet of the language\n",
        "display_alphabet(train_data['Greek'])"
      ],
      "execution_count": 0,
      "outputs": [
        {
          "output_type": "display_data",
          "data": {
            "image/png": "[encoded data removed]",
            "text/plain": [
              "<Figure size 720x720 with 24 Axes>"
            ]
          },
          "metadata": {
            "tags": []
          }
        }
      ]
    },
    {
      "cell_type": "code",
      "metadata": {
        "id": "5pj3M5GU2vQJ",
        "colab_type": "code",
        "colab": {}
      },
      "source": [
        "def get_batch(data, batch_size):\n",
        "  total_size = sum(data['sizes'])\n",
        "  prob = [size / total_size for size in data['sizes']]\n",
        "  \n",
        "  left_input = np.zeros((batch_size, 105, 105, 1))\n",
        "  right_input = np.zeros((batch_size, 105, 105, 1))\n",
        "  output = np.zeros((batch_size,))\n",
        "  \n",
        "  for idx in np.arange(batch_size):\n",
        "    # select random alphabet with prob \n",
        "    #   (its number of characters / total number of characters)\n",
        "    left_alphabet_name = np.random.choice(data['names'], p=prob)\n",
        "    # select random character\n",
        "    left_character_idx = np.random.randint(low = 0, high = data[left_alphabet_name]['size'])\n",
        "\n",
        "    if np.random.uniform() < 0.5: \n",
        "      similarity = 1.0\n",
        "      right_alphabet_name = left_alphabet_name\n",
        "      right_character_idx = left_character_idx\n",
        "    else:\n",
        "      similarity = 0.0\n",
        "      while True:\n",
        "        # select random alphabet\n",
        "        right_alphabet_name = np.random.choice(data['names'], p=prob)\n",
        "        # select random character\n",
        "        right_character_idx = np.random.randint(low = 0, high = data[right_alphabet_name]['size'])\n",
        "        if left_alphabet_name != right_alphabet_name or left_character_idx != right_character_idx:\n",
        "          break\n",
        "\n",
        "    # select random example\n",
        "    left_example_idx = np.random.randint(low = 0, high = 20) \n",
        "    # select random example\n",
        "    right_example_idx = np.random.randint(low = 0, high = 20)\n",
        "    \n",
        "    left_input[idx, :, :, :] = data[left_alphabet_name][(left_character_idx, left_example_idx)].reshape((105, 105, 1))\n",
        "    right_input[idx, :, :, :] = data[right_alphabet_name][(right_character_idx, right_example_idx)].reshape((105, 105, 1))\n",
        "    output[idx] = similarity\n",
        "    \n",
        "  return [left_input, right_input], output"
      ],
      "execution_count": 0,
      "outputs": []
    },
    {
      "cell_type": "code",
      "metadata": {
        "id": "cg_G2I95hoM2",
        "colab_type": "code",
        "colab": {}
      },
      "source": [
        "def pair_generator(data, batch_size):\n",
        "  while True:\n",
        "    yield get_batch(data, batch_size)"
      ],
      "execution_count": 0,
      "outputs": []
    },
    {
      "cell_type": "code",
      "metadata": {
        "id": "aRgoKgNI3Ayp",
        "colab_type": "code",
        "colab": {}
      },
      "source": [
        "import random\n",
        "import numpy as np\n",
        "import keras\n",
        "from keras.models import Sequential, Model\n",
        "from keras.layers import Flatten, Dense, Concatenate, Dot, Lambda, Input, Lambda, Conv2D\n",
        "from keras.datasets import mnist\n",
        "from keras.optimizers import Adam\n",
        "import matplotlib.pyplot as plt"
      ],
      "execution_count": 0,
      "outputs": []
    },
    {
      "cell_type": "markdown",
      "metadata": {
        "id": "a-dZJ5Mws1Tg",
        "colab_type": "text"
      },
      "source": [
        "i want to build 3 different models and compare their model accuracies and select the best model with the highest accuracy to do one shot classification."
      ]
    },
    {
      "cell_type": "markdown",
      "metadata": {
        "id": "XRwN7tfk95F1",
        "colab_type": "text"
      },
      "source": [
        "----------------------------------------------------------------------------------------------------------------"
      ]
    },
    {
      "cell_type": "markdown",
      "metadata": {
        "id": "QRI_xQgliVly",
        "colab_type": "text"
      },
      "source": [
        "for the 1st model instead of passing a pair of images through a CNN and extracting their feature vector and comparing  them .\n",
        "i simple wanted to see how a model performs when if we just flatten the entire image.\n",
        "im pretty sure that model does not do well , lets see\n",
        "\n",
        "\n",
        "\n"
      ]
    },
    {
      "cell_type": "code",
      "metadata": {
        "id": "3nY2gMK4AlVE",
        "colab_type": "code",
        "colab": {}
      },
      "source": [
        "'''\n",
        "we build a simple model where we flatten the images(105 X 105) and calculate the similarity \n",
        "between the vectors.\n",
        "'''\n",
        "\n",
        "def simple_model(input_shape):\n",
        "  input = Input((105,105, 1))\n",
        "  x = Flatten()(input)\n",
        "  #x = Dense(128, activation = 'relu')(x)\n",
        "  dense = Model(input, x)\n",
        "  \n",
        "  input1 = Input(input_shape)\n",
        "  input2 = Input(input_shape)\n",
        "  \n",
        "  dense1 = dense(input1)\n",
        "  dense2 = dense(input2)\n",
        "  \n",
        "  \n",
        "  L1_dist = Lambda(lambda tensors:K.abs(tensors[0] - tensors[1]))\n",
        "  merge_layer = L1_dist([dense1, dense2])\n",
        "  dense_layer = Dense(1, activation = 'sigmoid')(merge_layer)\n",
        "  basic_model = Model(inputs = [input1, input2], outputs = dense_layer)\n",
        "  \n",
        "  return basic_model"
      ],
      "execution_count": 0,
      "outputs": []
    },
    {
      "cell_type": "code",
      "metadata": {
        "id": "hyar9uirndFw",
        "colab_type": "code",
        "outputId": "706226d4-ace6-42de-f53c-9c24fabd051e",
        "colab": {
          "base_uri": "https://localhost:8080/",
          "height": 479
        }
      },
      "source": [
        "model = simple_model((105,105,1)) \n",
        "model.summary()"
      ],
      "execution_count": 0,
      "outputs": [
        {
          "output_type": "stream",
          "text": [
            "WARNING: Logging before flag parsing goes to stderr.\n",
            "W0801 09:27:35.897281 139843508201344 deprecation_wrapper.py:119] From /usr/local/lib/python3.6/dist-packages/keras/backend/tensorflow_backend.py:74: The name tf.get_default_graph is deprecated. Please use tf.compat.v1.get_default_graph instead.\n",
            "\n",
            "W0801 09:27:35.938697 139843508201344 deprecation_wrapper.py:119] From /usr/local/lib/python3.6/dist-packages/keras/backend/tensorflow_backend.py:517: The name tf.placeholder is deprecated. Please use tf.compat.v1.placeholder instead.\n",
            "\n",
            "W0801 09:27:35.983815 139843508201344 deprecation_wrapper.py:119] From /usr/local/lib/python3.6/dist-packages/keras/backend/tensorflow_backend.py:4138: The name tf.random_uniform is deprecated. Please use tf.random.uniform instead.\n",
            "\n"
          ],
          "name": "stderr"
        },
        {
          "output_type": "stream",
          "text": [
            "__________________________________________________________________________________________________\n",
            "Layer (type)                    Output Shape         Param #     Connected to                     \n",
            "==================================================================================================\n",
            "input_2 (InputLayer)            (None, 105, 105, 1)  0                                            \n",
            "__________________________________________________________________________________________________\n",
            "input_3 (InputLayer)            (None, 105, 105, 1)  0                                            \n",
            "__________________________________________________________________________________________________\n",
            "model_1 (Model)                 (None, 11025)        0           input_2[0][0]                    \n",
            "                                                                 input_3[0][0]                    \n",
            "__________________________________________________________________________________________________\n",
            "lambda_1 (Lambda)               (None, 11025)        0           model_1[1][0]                    \n",
            "                                                                 model_1[2][0]                    \n",
            "__________________________________________________________________________________________________\n",
            "dense_1 (Dense)                 (None, 1)            11026       lambda_1[0][0]                   \n",
            "==================================================================================================\n",
            "Total params: 11,026\n",
            "Trainable params: 11,026\n",
            "Non-trainable params: 0\n",
            "__________________________________________________________________________________________________\n"
          ],
          "name": "stdout"
        }
      ]
    },
    {
      "cell_type": "code",
      "metadata": {
        "id": "Q1ahymtWnc8-",
        "colab_type": "code",
        "outputId": "1039d4e8-49c4-4700-b78b-4e83b167def0",
        "colab": {
          "base_uri": "https://localhost:8080/",
          "height": 156
        }
      },
      "source": [
        "model.compile(loss = 'binary_crossentropy', optimizer = 'adam', metrics = ['accuracy'])\n"
      ],
      "execution_count": 0,
      "outputs": [
        {
          "output_type": "stream",
          "text": [
            "W0801 09:27:36.020700 139843508201344 deprecation_wrapper.py:119] From /usr/local/lib/python3.6/dist-packages/keras/optimizers.py:790: The name tf.train.Optimizer is deprecated. Please use tf.compat.v1.train.Optimizer instead.\n",
            "\n",
            "W0801 09:27:36.053388 139843508201344 deprecation_wrapper.py:119] From /usr/local/lib/python3.6/dist-packages/keras/backend/tensorflow_backend.py:3376: The name tf.log is deprecated. Please use tf.math.log instead.\n",
            "\n",
            "W0801 09:27:36.062343 139843508201344 deprecation.py:323] From /usr/local/lib/python3.6/dist-packages/tensorflow/python/ops/nn_impl.py:180: add_dispatch_support.<locals>.wrapper (from tensorflow.python.ops.array_ops) is deprecated and will be removed in a future version.\n",
            "Instructions for updating:\n",
            "Use tf.where in 2.0, which has the same broadcast rule as np.where\n"
          ],
          "name": "stderr"
        }
      ]
    },
    {
      "cell_type": "code",
      "metadata": {
        "id": "PXMGx25vnc0h",
        "colab_type": "code",
        "outputId": "9b81c325-aaeb-4671-83f1-801979e89b16",
        "colab": {
          "base_uri": "https://localhost:8080/",
          "height": 1000
        }
      },
      "source": [
        "history_1 = model.fit_generator(pair_generator(train_data, 32), steps_per_epoch=200, epochs=100)"
      ],
      "execution_count": 0,
      "outputs": [
        {
          "output_type": "stream",
          "text": [
            "W0801 09:27:36.302705 139843508201344 deprecation_wrapper.py:119] From /usr/local/lib/python3.6/dist-packages/keras/backend/tensorflow_backend.py:986: The name tf.assign_add is deprecated. Please use tf.compat.v1.assign_add instead.\n",
            "\n"
          ],
          "name": "stderr"
        },
        {
          "output_type": "stream",
          "text": [
            "Epoch 1/100\n",
            "200/200 [==============================] - 6s 29ms/step - loss: 7.6202 - acc: 0.5239\n",
            "Epoch 2/100\n",
            "200/200 [==============================] - 2s 11ms/step - loss: 7.7366 - acc: 0.5158\n",
            "Epoch 3/100\n",
            "200/200 [==============================] - 2s 11ms/step - loss: 7.3339 - acc: 0.5431\n",
            "Epoch 4/100\n",
            "200/200 [==============================] - 2s 11ms/step - loss: 7.4462 - acc: 0.5358\n",
            "Epoch 5/100\n",
            "200/200 [==============================] - 2s 11ms/step - loss: 7.3066 - acc: 0.5455\n",
            "Epoch 6/100\n",
            "200/200 [==============================] - 2s 11ms/step - loss: 7.7399 - acc: 0.5155\n",
            "Epoch 7/100\n",
            "200/200 [==============================] - 2s 11ms/step - loss: 8.0442 - acc: 0.4956\n",
            "Epoch 8/100\n",
            "200/200 [==============================] - 2s 11ms/step - loss: 8.0836 - acc: 0.4934\n",
            "Epoch 9/100\n",
            "200/200 [==============================] - 2s 11ms/step - loss: 8.0241 - acc: 0.4972\n",
            "Epoch 10/100\n",
            "200/200 [==============================] - 2s 11ms/step - loss: 7.9771 - acc: 0.5002\n",
            "Epoch 11/100\n",
            "200/200 [==============================] - 2s 11ms/step - loss: 7.9843 - acc: 0.4997\n",
            "Epoch 12/100\n",
            "200/200 [==============================] - 2s 11ms/step - loss: 7.9740 - acc: 0.5003\n",
            "Epoch 13/100\n",
            "200/200 [==============================] - 2s 11ms/step - loss: 7.9366 - acc: 0.5025\n",
            "Epoch 14/100\n",
            "200/200 [==============================] - 2s 11ms/step - loss: 8.0051 - acc: 0.4983\n",
            "Epoch 15/100\n",
            "200/200 [==============================] - 2s 11ms/step - loss: 8.1632 - acc: 0.4883\n",
            "Epoch 16/100\n",
            "200/200 [==============================] - 2s 11ms/step - loss: 7.9943 - acc: 0.4989\n",
            "Epoch 17/100\n",
            "200/200 [==============================] - 2s 11ms/step - loss: 7.9835 - acc: 0.4995\n",
            "Epoch 18/100\n",
            "200/200 [==============================] - 2s 11ms/step - loss: 7.8684 - acc: 0.5067\n",
            "Epoch 19/100\n",
            "200/200 [==============================] - 2s 11ms/step - loss: 8.0748 - acc: 0.4938\n",
            "Epoch 20/100\n",
            "200/200 [==============================] - 2s 11ms/step - loss: 7.9873 - acc: 0.4992\n",
            "Epoch 21/100\n",
            "200/200 [==============================] - 2s 11ms/step - loss: 8.0697 - acc: 0.4941\n",
            "Epoch 22/100\n",
            "200/200 [==============================] - 2s 11ms/step - loss: 8.0961 - acc: 0.4923\n",
            "Epoch 23/100\n",
            "200/200 [==============================] - 2s 11ms/step - loss: 7.9417 - acc: 0.5020\n",
            "Epoch 24/100\n",
            "200/200 [==============================] - 2s 11ms/step - loss: 7.9267 - acc: 0.5030\n",
            "Epoch 25/100\n",
            "200/200 [==============================] - 2s 11ms/step - loss: 7.7449 - acc: 0.5144\n",
            "Epoch 26/100\n",
            "200/200 [==============================] - 2s 11ms/step - loss: 7.9609 - acc: 0.5008\n",
            "Epoch 27/100\n",
            "200/200 [==============================] - 2s 11ms/step - loss: 7.9162 - acc: 0.5036\n",
            "Epoch 28/100\n",
            "200/200 [==============================] - 2s 11ms/step - loss: 7.9640 - acc: 0.5005\n",
            "Epoch 29/100\n",
            "200/200 [==============================] - 2s 11ms/step - loss: 7.8112 - acc: 0.5102\n",
            "Epoch 30/100\n",
            "200/200 [==============================] - 2s 11ms/step - loss: 8.0453 - acc: 0.4955\n",
            "Epoch 31/100\n",
            "200/200 [==============================] - 2s 11ms/step - loss: 8.0725 - acc: 0.4938\n",
            "Epoch 32/100\n",
            "200/200 [==============================] - 2s 11ms/step - loss: 7.9852 - acc: 0.4992\n",
            "Epoch 33/100\n",
            "200/200 [==============================] - 2s 11ms/step - loss: 7.9104 - acc: 0.5039\n",
            "Epoch 34/100\n",
            "200/200 [==============================] - 2s 11ms/step - loss: 7.9600 - acc: 0.5008\n",
            "Epoch 35/100\n",
            "200/200 [==============================] - 2s 11ms/step - loss: 8.1194 - acc: 0.4908\n",
            "Epoch 36/100\n",
            "200/200 [==============================] - 2s 11ms/step - loss: 7.7608 - acc: 0.5133\n",
            "Epoch 37/100\n",
            "200/200 [==============================] - 2s 11ms/step - loss: 8.1367 - acc: 0.4897\n",
            "Epoch 38/100\n",
            "200/200 [==============================] - 2s 11ms/step - loss: 7.9821 - acc: 0.4994\n",
            "Epoch 39/100\n",
            "200/200 [==============================] - 2s 11ms/step - loss: 7.9645 - acc: 0.5005\n",
            "Epoch 40/100\n",
            "200/200 [==============================] - 2s 11ms/step - loss: 7.9696 - acc: 0.5002\n",
            "Epoch 41/100\n",
            "200/200 [==============================] - 2s 11ms/step - loss: 7.9894 - acc: 0.4989\n",
            "Epoch 42/100\n",
            "200/200 [==============================] - 2s 11ms/step - loss: 7.7502 - acc: 0.5139\n",
            "Epoch 43/100\n",
            "200/200 [==============================] - 2s 11ms/step - loss: 7.9744 - acc: 0.4998\n",
            "Epoch 44/100\n",
            "200/200 [==============================] - 2s 11ms/step - loss: 8.0516 - acc: 0.4950\n",
            "Epoch 45/100\n",
            "200/200 [==============================] - 2s 11ms/step - loss: 8.0589 - acc: 0.4945\n",
            "Epoch 46/100\n",
            "200/200 [==============================] - 2s 11ms/step - loss: 7.8685 - acc: 0.5064\n",
            "Epoch 47/100\n",
            "200/200 [==============================] - 2s 11ms/step - loss: 7.8172 - acc: 0.5097\n",
            "Epoch 48/100\n",
            "200/200 [==============================] - 2s 11ms/step - loss: 8.0614 - acc: 0.4944\n",
            "Epoch 49/100\n",
            "200/200 [==============================] - 2s 11ms/step - loss: 8.0041 - acc: 0.4980\n",
            "Epoch 50/100\n",
            "200/200 [==============================] - 2s 11ms/step - loss: 7.9543 - acc: 0.5011\n",
            "Epoch 51/100\n",
            "200/200 [==============================] - 2s 11ms/step - loss: 7.9865 - acc: 0.4991\n",
            "Epoch 52/100\n",
            "200/200 [==============================] - 2s 11ms/step - loss: 7.9591 - acc: 0.5008\n",
            "Epoch 53/100\n",
            "200/200 [==============================] - 2s 11ms/step - loss: 7.9840 - acc: 0.4992\n",
            "Epoch 54/100\n",
            "200/200 [==============================] - 2s 11ms/step - loss: 7.9034 - acc: 0.5042\n",
            "Epoch 55/100\n",
            "200/200 [==============================] - 2s 11ms/step - loss: 7.8743 - acc: 0.5061\n",
            "Epoch 56/100\n",
            "200/200 [==============================] - 2s 11ms/step - loss: 7.9117 - acc: 0.5038\n",
            "Epoch 57/100\n",
            "200/200 [==============================] - 2s 11ms/step - loss: 8.0312 - acc: 0.4963\n",
            "Epoch 58/100\n",
            "200/200 [==============================] - 2s 11ms/step - loss: 7.9192 - acc: 0.5033\n",
            "Epoch 59/100\n",
            "200/200 [==============================] - 2s 11ms/step - loss: 8.1010 - acc: 0.4919\n",
            "Epoch 60/100\n",
            "200/200 [==============================] - 2s 11ms/step - loss: 8.1034 - acc: 0.4917\n",
            "Epoch 61/100\n",
            "200/200 [==============================] - 2s 11ms/step - loss: 7.7871 - acc: 0.5116\n",
            "Epoch 62/100\n",
            "200/200 [==============================] - 2s 11ms/step - loss: 7.9615 - acc: 0.5006\n",
            "Epoch 63/100\n",
            "200/200 [==============================] - 2s 11ms/step - loss: 8.0087 - acc: 0.4977\n",
            "Epoch 64/100\n",
            "200/200 [==============================] - 2s 11ms/step - loss: 8.2080 - acc: 0.4852\n",
            "Epoch 65/100\n",
            "200/200 [==============================] - 2s 11ms/step - loss: 7.8991 - acc: 0.5045\n",
            "Epoch 66/100\n",
            "200/200 [==============================] - 2s 11ms/step - loss: 7.9240 - acc: 0.5030\n",
            "Epoch 67/100\n",
            "200/200 [==============================] - 2s 11ms/step - loss: 8.0635 - acc: 0.4942\n",
            "Epoch 68/100\n",
            "200/200 [==============================] - 2s 11ms/step - loss: 7.9190 - acc: 0.5033\n",
            "Epoch 69/100\n",
            "200/200 [==============================] - 2s 11ms/step - loss: 8.1133 - acc: 0.4911\n",
            "Epoch 70/100\n",
            "200/200 [==============================] - 2s 11ms/step - loss: 7.9888 - acc: 0.4989\n",
            "Epoch 71/100\n",
            "200/200 [==============================] - 2s 11ms/step - loss: 7.9215 - acc: 0.5031\n",
            "Epoch 72/100\n",
            "200/200 [==============================] - 2s 11ms/step - loss: 8.0261 - acc: 0.4966\n",
            "Epoch 73/100\n",
            "200/200 [==============================] - 2s 11ms/step - loss: 8.0784 - acc: 0.4933\n",
            "Epoch 74/100\n",
            "200/200 [==============================] - 2s 11ms/step - loss: 7.8218 - acc: 0.5094\n",
            "Epoch 75/100\n",
            "200/200 [==============================] - 2s 11ms/step - loss: 7.8592 - acc: 0.5070\n",
            "Epoch 76/100\n",
            "200/200 [==============================] - 2s 11ms/step - loss: 7.8243 - acc: 0.5092\n",
            "Epoch 77/100\n",
            "200/200 [==============================] - 2s 11ms/step - loss: 8.0086 - acc: 0.4977\n",
            "Epoch 78/100\n",
            "200/200 [==============================] - 2s 11ms/step - loss: 8.1083 - acc: 0.4914\n",
            "Epoch 79/100\n",
            "200/200 [==============================] - 2s 11ms/step - loss: 7.8019 - acc: 0.5106\n",
            "Epoch 80/100\n",
            "200/200 [==============================] - 2s 11ms/step - loss: 7.9115 - acc: 0.5038\n",
            "Epoch 81/100\n",
            "200/200 [==============================] - 2s 11ms/step - loss: 7.9962 - acc: 0.4984\n",
            "Epoch 82/100\n",
            "200/200 [==============================] - 2s 11ms/step - loss: 8.0335 - acc: 0.4961\n",
            "Epoch 83/100\n",
            "200/200 [==============================] - 2s 11ms/step - loss: 7.9563 - acc: 0.5009\n",
            "Epoch 84/100\n",
            "200/200 [==============================] - 2s 11ms/step - loss: 7.9140 - acc: 0.5036\n",
            "Epoch 85/100\n",
            "200/200 [==============================] - 2s 11ms/step - loss: 7.9164 - acc: 0.5034\n",
            "Epoch 86/100\n",
            "200/200 [==============================] - 2s 11ms/step - loss: 8.0036 - acc: 0.4980\n",
            "Epoch 87/100\n",
            "200/200 [==============================] - 2s 11ms/step - loss: 7.9339 - acc: 0.5023\n",
            "Epoch 88/100\n",
            "200/200 [==============================] - 2s 11ms/step - loss: 7.9438 - acc: 0.5017\n",
            "Epoch 89/100\n",
            "200/200 [==============================] - 2s 11ms/step - loss: 7.9937 - acc: 0.4986\n",
            "Epoch 90/100\n",
            "200/200 [==============================] - 2s 11ms/step - loss: 8.0883 - acc: 0.4927\n",
            "Epoch 91/100\n",
            "200/200 [==============================] - 2s 11ms/step - loss: 8.1531 - acc: 0.4886\n",
            "Epoch 92/100\n",
            "200/200 [==============================] - 2s 11ms/step - loss: 7.9164 - acc: 0.5034\n",
            "Epoch 93/100\n",
            "200/200 [==============================] - 2s 11ms/step - loss: 7.9887 - acc: 0.4989\n",
            "Epoch 94/100\n",
            "200/200 [==============================] - 2s 11ms/step - loss: 8.0833 - acc: 0.4930\n",
            "Epoch 95/100\n",
            "200/200 [==============================] - 2s 11ms/step - loss: 8.0111 - acc: 0.4975\n",
            "Epoch 96/100\n",
            "200/200 [==============================] - 2s 11ms/step - loss: 8.1456 - acc: 0.4891\n",
            "Epoch 97/100\n",
            "200/200 [==============================] - 2s 11ms/step - loss: 8.0036 - acc: 0.4980\n",
            "Epoch 98/100\n",
            "200/200 [==============================] - 2s 11ms/step - loss: 8.0808 - acc: 0.4931\n",
            "Epoch 99/100\n",
            "200/200 [==============================] - 2s 11ms/step - loss: 7.8541 - acc: 0.5073\n",
            "Epoch 100/100\n",
            "200/200 [==============================] - 2s 11ms/step - loss: 7.9986 - acc: 0.4983\n"
          ],
          "name": "stdout"
        }
      ]
    },
    {
      "cell_type": "code",
      "metadata": {
        "id": "b3j1Y_ozOij1",
        "colab_type": "code",
        "outputId": "0b866aa0-365c-4374-c30a-a7ea7385a525",
        "colab": {
          "base_uri": "https://localhost:8080/",
          "height": 295
        }
      },
      "source": [
        "plt.plot(history_1.history['acc'])\n",
        "plt.title('model acc')\n",
        "plt.ylabel('acc')\n",
        "plt.xlabel('epoch')\n",
        "plt.show()\n"
      ],
      "execution_count": 0,
      "outputs": [
        {
          "output_type": "display_data",
          "data": {
            "image/png": "[encoded data removed]",
            "text/plain": [
              "<Figure size 432x288 with 1 Axes>"
            ]
          },
          "metadata": {
            "tags": []
          }
        }
      ]
    },
    {
      "cell_type": "markdown",
      "metadata": {
        "id": "bN-aA3Yvk3gE",
        "colab_type": "text"
      },
      "source": [
        "as predicted the model did not do well , the reason is simple when we pass an image through a CNN model in the last layer before flatten the CNN extracts key features that defines the image for example if we pass an image of a cat through a trained CNN in the last layer the model extracts key features of cat the defines it like \"whiskers\" or \"pointy ears\" which helps the model to identity the image.\n",
        "but in the above model we simply flattened the entire image that defeats the whole purpose.."
      ]
    },
    {
      "cell_type": "code",
      "metadata": {
        "id": "uSAuTkDZOh9s",
        "colab_type": "code",
        "colab": {}
      },
      "source": [
        ""
      ],
      "execution_count": 0,
      "outputs": []
    },
    {
      "cell_type": "markdown",
      "metadata": {
        "id": "PEHnShpigUAE",
        "colab_type": "text"
      },
      "source": [
        "For the 2nd model I build a simple 2 layered CNN nothing specific, i went through keras functional API  and found a sample code for shared vision problem (https://keras.io/getting-started/functional-api-guide/) and used that model architecture to see how it performs when we add CONVOLUTION.\n",
        "\n",
        "ofc i will be using the same method as before but instead of flatten the entire image , here the image passes through a couple of CNN layers and the extracted feature vectors and flatten and their abs difference is fully connected to a dense layer of unit one and activation sigmoid.."
      ]
    },
    {
      "cell_type": "code",
      "metadata": {
        "id": "Q0UWo8g0_0f-",
        "colab_type": "code",
        "colab": {}
      },
      "source": [
        " \n",
        "def cnn_model(input_shape):\n",
        "    \n",
        "    # tensors for the two input images\n",
        "    left_input = Input(input_shape)\n",
        "    right_input = Input(input_shape)\n",
        "    \n",
        "    # conv\n",
        "    model = Sequential()\n",
        "    model.add(Conv2D(64, kernel_size=(3, 3),activation='relu',input_shape=input_shape))\n",
        "    model.add(Conv2D(64, (3, 3), activation='relu'))\n",
        "    model.add(MaxPooling2D(pool_size=(2, 2)))\n",
        "    model.add(Flatten())\n",
        "    \n",
        "    \n",
        "    # encodings (feature vectors) for the two images\n",
        "    left_encoding = model(left_input)\n",
        "    right_encoding = model(right_input)\n",
        "    \n",
        "    # customized layer to compute the absolute difference between the feature vectors\n",
        "    L1_layer = Lambda(lambda tensors:K.abs(tensors[0] - tensors[1]))\n",
        "    L1_distance = L1_layer([left_encoding, right_encoding])\n",
        "    \n",
        "    # dense layer with a sigmoid unit to generate the similarity score\n",
        "    prediction = Dense(1,activation='sigmoid')(L1_distance)\n",
        "    \n",
        "    # siamese model connecting the two inputs\n",
        "    siamese_model = Model(inputs=[left_input, right_input], outputs=prediction)\n",
        "    \n",
        "    return siamese_model"
      ],
      "execution_count": 0,
      "outputs": []
    },
    {
      "cell_type": "code",
      "metadata": {
        "id": "I24cm8nM_0ck",
        "colab_type": "code",
        "outputId": "81a16ef3-5cb3-460e-8df4-df8d450124ec",
        "colab": {
          "base_uri": "https://localhost:8080/",
          "height": 394
        }
      },
      "source": [
        "model = cnn_model((105, 105, 1)) \n",
        "model.summary()"
      ],
      "execution_count": 0,
      "outputs": [
        {
          "output_type": "stream",
          "text": [
            "W0801 09:31:16.666515 139843508201344 deprecation_wrapper.py:119] From /usr/local/lib/python3.6/dist-packages/keras/backend/tensorflow_backend.py:3976: The name tf.nn.max_pool is deprecated. Please use tf.nn.max_pool2d instead.\n",
            "\n"
          ],
          "name": "stderr"
        },
        {
          "output_type": "stream",
          "text": [
            "__________________________________________________________________________________________________\n",
            "Layer (type)                    Output Shape         Param #     Connected to                     \n",
            "==================================================================================================\n",
            "input_4 (InputLayer)            (None, 105, 105, 1)  0                                            \n",
            "__________________________________________________________________________________________________\n",
            "input_5 (InputLayer)            (None, 105, 105, 1)  0                                            \n",
            "__________________________________________________________________________________________________\n",
            "sequential_1 (Sequential)       (None, 160000)       37568       input_4[0][0]                    \n",
            "                                                                 input_5[0][0]                    \n",
            "__________________________________________________________________________________________________\n",
            "lambda_2 (Lambda)               (None, 160000)       0           sequential_1[1][0]               \n",
            "                                                                 sequential_1[2][0]               \n",
            "__________________________________________________________________________________________________\n",
            "dense_2 (Dense)                 (None, 1)            160001      lambda_2[0][0]                   \n",
            "==================================================================================================\n",
            "Total params: 197,569\n",
            "Trainable params: 197,569\n",
            "Non-trainable params: 0\n",
            "__________________________________________________________________________________________________\n"
          ],
          "name": "stdout"
        }
      ]
    },
    {
      "cell_type": "code",
      "metadata": {
        "id": "CAVJ5qp__0aN",
        "colab_type": "code",
        "outputId": "43122403-33a0-46b1-dcc2-6939fd46b0e1",
        "colab": {
          "base_uri": "https://localhost:8080/",
          "height": 1000
        }
      },
      "source": [
        "optimizer = Adam(lr=0.00005)\n",
        "model.compile(loss='binary_crossentropy', \n",
        "              optimizer=optimizer,\n",
        "              metrics=['accuracy'])\n",
        "history_2 = model.fit_generator(pair_generator(train_data, 32), steps_per_epoch=200, epochs=100)"
      ],
      "execution_count": 0,
      "outputs": [
        {
          "output_type": "stream",
          "text": [
            "Epoch 1/100\n",
            "200/200 [==============================] - 26s 132ms/step - loss: 2.5821 - acc: 0.5555\n",
            "Epoch 2/100\n",
            "200/200 [==============================] - 23s 116ms/step - loss: 1.4589 - acc: 0.6016\n",
            "Epoch 3/100\n",
            "200/200 [==============================] - 23s 116ms/step - loss: 1.0337 - acc: 0.6369\n",
            "Epoch 4/100\n",
            "200/200 [==============================] - 23s 116ms/step - loss: 0.9210 - acc: 0.6280\n",
            "Epoch 5/100\n",
            "200/200 [==============================] - 23s 116ms/step - loss: 0.8028 - acc: 0.6514\n",
            "Epoch 6/100\n",
            "200/200 [==============================] - 23s 116ms/step - loss: 0.7353 - acc: 0.6644\n",
            "Epoch 7/100\n",
            "200/200 [==============================] - 23s 116ms/step - loss: 0.7283 - acc: 0.6659\n",
            "Epoch 8/100\n",
            "200/200 [==============================] - 23s 116ms/step - loss: 0.6902 - acc: 0.6697\n",
            "Epoch 9/100\n",
            "200/200 [==============================] - 23s 115ms/step - loss: 0.6451 - acc: 0.6878\n",
            "Epoch 10/100\n",
            "200/200 [==============================] - 23s 116ms/step - loss: 0.6381 - acc: 0.6903\n",
            "Epoch 11/100\n",
            "200/200 [==============================] - 23s 116ms/step - loss: 0.6405 - acc: 0.6864\n",
            "Epoch 12/100\n",
            "200/200 [==============================] - 23s 116ms/step - loss: 0.6116 - acc: 0.6967\n",
            "Epoch 13/100\n",
            "200/200 [==============================] - 23s 116ms/step - loss: 0.6175 - acc: 0.6966\n",
            "Epoch 14/100\n",
            "200/200 [==============================] - 23s 116ms/step - loss: 0.6190 - acc: 0.7003\n",
            "Epoch 15/100\n",
            "200/200 [==============================] - 23s 116ms/step - loss: 0.5876 - acc: 0.7159\n",
            "Epoch 16/100\n",
            "200/200 [==============================] - 23s 115ms/step - loss: 0.6083 - acc: 0.7033\n",
            "Epoch 17/100\n",
            "200/200 [==============================] - 23s 116ms/step - loss: 0.5905 - acc: 0.7127\n",
            "Epoch 18/100\n",
            "200/200 [==============================] - 23s 116ms/step - loss: 0.6043 - acc: 0.7020\n",
            "Epoch 19/100\n",
            "200/200 [==============================] - 23s 116ms/step - loss: 0.5907 - acc: 0.7144\n",
            "Epoch 20/100\n",
            "200/200 [==============================] - 23s 116ms/step - loss: 0.5828 - acc: 0.7113\n",
            "Epoch 21/100\n",
            "200/200 [==============================] - 23s 116ms/step - loss: 0.5746 - acc: 0.7216\n",
            "Epoch 22/100\n",
            "200/200 [==============================] - 23s 116ms/step - loss: 0.5889 - acc: 0.7177\n",
            "Epoch 23/100\n",
            "200/200 [==============================] - 23s 116ms/step - loss: 0.5637 - acc: 0.7253\n",
            "Epoch 24/100\n",
            "200/200 [==============================] - 23s 116ms/step - loss: 0.5717 - acc: 0.7183\n",
            "Epoch 25/100\n",
            "200/200 [==============================] - 23s 117ms/step - loss: 0.5810 - acc: 0.7139\n",
            "Epoch 26/100\n",
            "200/200 [==============================] - 23s 116ms/step - loss: 0.5861 - acc: 0.7116\n",
            "Epoch 27/100\n",
            "200/200 [==============================] - 23s 116ms/step - loss: 0.5604 - acc: 0.7273\n",
            "Epoch 28/100\n",
            "200/200 [==============================] - 23s 116ms/step - loss: 0.5708 - acc: 0.7144\n",
            "Epoch 29/100\n",
            "200/200 [==============================] - 23s 116ms/step - loss: 0.5685 - acc: 0.7256\n",
            "Epoch 30/100\n",
            "200/200 [==============================] - 23s 116ms/step - loss: 0.5603 - acc: 0.7242\n",
            "Epoch 31/100\n",
            "200/200 [==============================] - 23s 116ms/step - loss: 0.5592 - acc: 0.7267\n",
            "Epoch 32/100\n",
            "200/200 [==============================] - 23s 116ms/step - loss: 0.5643 - acc: 0.7236\n",
            "Epoch 33/100\n",
            "200/200 [==============================] - 23s 116ms/step - loss: 0.5639 - acc: 0.7328\n",
            "Epoch 34/100\n",
            "200/200 [==============================] - 23s 116ms/step - loss: 0.5767 - acc: 0.7202\n",
            "Epoch 35/100\n",
            "200/200 [==============================] - 23s 116ms/step - loss: 0.5497 - acc: 0.7327\n",
            "Epoch 36/100\n",
            "200/200 [==============================] - 23s 116ms/step - loss: 0.5613 - acc: 0.7269\n",
            "Epoch 37/100\n",
            "200/200 [==============================] - 23s 116ms/step - loss: 0.5495 - acc: 0.7297\n",
            "Epoch 38/100\n",
            "200/200 [==============================] - 23s 116ms/step - loss: 0.5538 - acc: 0.7303\n",
            "Epoch 39/100\n",
            "200/200 [==============================] - 23s 116ms/step - loss: 0.5733 - acc: 0.7170\n",
            "Epoch 40/100\n",
            "200/200 [==============================] - 23s 116ms/step - loss: 0.5485 - acc: 0.7369\n",
            "Epoch 41/100\n",
            "200/200 [==============================] - 23s 116ms/step - loss: 0.5513 - acc: 0.7355\n",
            "Epoch 42/100\n",
            "200/200 [==============================] - 23s 116ms/step - loss: 0.5491 - acc: 0.7264\n",
            "Epoch 43/100\n",
            "200/200 [==============================] - 23s 116ms/step - loss: 0.5402 - acc: 0.7423\n",
            "Epoch 44/100\n",
            "200/200 [==============================] - 23s 116ms/step - loss: 0.5550 - acc: 0.7277\n",
            "Epoch 45/100\n",
            "200/200 [==============================] - 23s 116ms/step - loss: 0.5363 - acc: 0.7414\n",
            "Epoch 46/100\n",
            "200/200 [==============================] - 23s 116ms/step - loss: 0.5605 - acc: 0.7230\n",
            "Epoch 47/100\n",
            "200/200 [==============================] - 23s 116ms/step - loss: 0.5479 - acc: 0.7386\n",
            "Epoch 48/100\n",
            "200/200 [==============================] - 23s 116ms/step - loss: 0.5414 - acc: 0.7381\n",
            "Epoch 49/100\n",
            "200/200 [==============================] - 23s 116ms/step - loss: 0.5320 - acc: 0.7413\n",
            "Epoch 50/100\n",
            "200/200 [==============================] - 23s 116ms/step - loss: 0.5554 - acc: 0.7242\n",
            "Epoch 51/100\n",
            "200/200 [==============================] - 23s 116ms/step - loss: 0.5334 - acc: 0.7438\n",
            "Epoch 52/100\n",
            "200/200 [==============================] - 23s 115ms/step - loss: 0.5508 - acc: 0.7383\n",
            "Epoch 53/100\n",
            "200/200 [==============================] - 23s 115ms/step - loss: 0.5495 - acc: 0.7323\n",
            "Epoch 54/100\n",
            "200/200 [==============================] - 23s 116ms/step - loss: 0.5342 - acc: 0.7445\n",
            "Epoch 55/100\n",
            "200/200 [==============================] - 23s 115ms/step - loss: 0.5342 - acc: 0.7450\n",
            "Epoch 56/100\n",
            "200/200 [==============================] - 23s 116ms/step - loss: 0.5550 - acc: 0.7322\n",
            "Epoch 57/100\n",
            "200/200 [==============================] - 23s 115ms/step - loss: 0.5454 - acc: 0.7323\n",
            "Epoch 58/100\n",
            "200/200 [==============================] - 23s 115ms/step - loss: 0.5689 - acc: 0.7216\n",
            "Epoch 59/100\n",
            "200/200 [==============================] - 23s 115ms/step - loss: 0.5411 - acc: 0.7394\n",
            "Epoch 60/100\n",
            "200/200 [==============================] - 23s 116ms/step - loss: 0.5316 - acc: 0.7458\n",
            "Epoch 61/100\n",
            "200/200 [==============================] - 23s 115ms/step - loss: 0.5472 - acc: 0.7345\n",
            "Epoch 62/100\n",
            "200/200 [==============================] - 23s 116ms/step - loss: 0.5444 - acc: 0.7405\n",
            "Epoch 63/100\n",
            "200/200 [==============================] - 23s 115ms/step - loss: 0.5541 - acc: 0.7300\n",
            "Epoch 64/100\n",
            "200/200 [==============================] - 23s 116ms/step - loss: 0.5402 - acc: 0.7341\n",
            "Epoch 65/100\n",
            "200/200 [==============================] - 23s 116ms/step - loss: 0.5445 - acc: 0.7403\n",
            "Epoch 66/100\n",
            "200/200 [==============================] - 23s 116ms/step - loss: 0.5366 - acc: 0.7383\n",
            "Epoch 67/100\n",
            "200/200 [==============================] - 23s 115ms/step - loss: 0.5399 - acc: 0.7375\n",
            "Epoch 68/100\n",
            "200/200 [==============================] - 23s 115ms/step - loss: 0.5373 - acc: 0.7436\n",
            "Epoch 69/100\n",
            "200/200 [==============================] - 23s 116ms/step - loss: 0.5337 - acc: 0.7455\n",
            "Epoch 70/100\n",
            "200/200 [==============================] - 23s 116ms/step - loss: 0.5309 - acc: 0.7488\n",
            "Epoch 71/100\n",
            "200/200 [==============================] - 23s 115ms/step - loss: 0.5237 - acc: 0.7527\n",
            "Epoch 72/100\n",
            "200/200 [==============================] - 23s 115ms/step - loss: 0.5265 - acc: 0.7522\n",
            "Epoch 73/100\n",
            "200/200 [==============================] - 23s 116ms/step - loss: 0.5241 - acc: 0.7522\n",
            "Epoch 74/100\n",
            "200/200 [==============================] - 23s 116ms/step - loss: 0.5425 - acc: 0.7395\n",
            "Epoch 75/100\n",
            "200/200 [==============================] - 23s 115ms/step - loss: 0.5266 - acc: 0.7506\n",
            "Epoch 76/100\n",
            "200/200 [==============================] - 23s 115ms/step - loss: 0.5357 - acc: 0.7552\n",
            "Epoch 77/100\n",
            "200/200 [==============================] - 23s 115ms/step - loss: 0.5298 - acc: 0.7523\n",
            "Epoch 78/100\n",
            "200/200 [==============================] - 23s 116ms/step - loss: 0.5319 - acc: 0.7473\n",
            "Epoch 79/100\n",
            "200/200 [==============================] - 23s 115ms/step - loss: 0.5319 - acc: 0.7527\n",
            "Epoch 80/100\n",
            "200/200 [==============================] - 23s 116ms/step - loss: 0.5319 - acc: 0.7477\n",
            "Epoch 81/100\n",
            "200/200 [==============================] - 23s 115ms/step - loss: 0.5120 - acc: 0.7562\n",
            "Epoch 82/100\n",
            "200/200 [==============================] - 23s 116ms/step - loss: 0.5326 - acc: 0.7511\n",
            "Epoch 83/100\n",
            "200/200 [==============================] - 23s 116ms/step - loss: 0.5294 - acc: 0.7462\n",
            "Epoch 84/100\n",
            "200/200 [==============================] - 23s 116ms/step - loss: 0.5230 - acc: 0.7559\n",
            "Epoch 85/100\n",
            "200/200 [==============================] - 23s 115ms/step - loss: 0.5224 - acc: 0.7564\n",
            "Epoch 86/100\n",
            "200/200 [==============================] - 23s 115ms/step - loss: 0.5027 - acc: 0.7670\n",
            "Epoch 87/100\n",
            "200/200 [==============================] - 23s 115ms/step - loss: 0.5091 - acc: 0.7631\n",
            "Epoch 88/100\n",
            "200/200 [==============================] - 23s 115ms/step - loss: 0.5237 - acc: 0.7525\n",
            "Epoch 89/100\n",
            "200/200 [==============================] - 23s 116ms/step - loss: 0.5169 - acc: 0.7553\n",
            "Epoch 90/100\n",
            "200/200 [==============================] - 23s 116ms/step - loss: 0.5123 - acc: 0.7602\n",
            "Epoch 91/100\n",
            "200/200 [==============================] - 23s 115ms/step - loss: 0.5293 - acc: 0.7477\n",
            "Epoch 92/100\n",
            "200/200 [==============================] - 23s 115ms/step - loss: 0.5154 - acc: 0.7541\n",
            "Epoch 93/100\n",
            "200/200 [==============================] - 23s 115ms/step - loss: 0.5139 - acc: 0.7570\n",
            "Epoch 94/100\n",
            "200/200 [==============================] - 23s 115ms/step - loss: 0.5338 - acc: 0.7494\n",
            "Epoch 95/100\n",
            "200/200 [==============================] - 23s 115ms/step - loss: 0.5055 - acc: 0.7592\n",
            "Epoch 96/100\n",
            "200/200 [==============================] - 23s 115ms/step - loss: 0.5106 - acc: 0.7555\n",
            "Epoch 97/100\n",
            "200/200 [==============================] - 23s 115ms/step - loss: 0.5041 - acc: 0.7667\n",
            "Epoch 98/100\n",
            "200/200 [==============================] - 23s 115ms/step - loss: 0.5130 - acc: 0.7587\n",
            "Epoch 99/100\n",
            "200/200 [==============================] - 23s 115ms/step - loss: 0.5140 - acc: 0.7575\n",
            "Epoch 100/100\n",
            "200/200 [==============================] - 23s 115ms/step - loss: 0.4968 - acc: 0.7669\n"
          ],
          "name": "stdout"
        }
      ]
    },
    {
      "cell_type": "code",
      "metadata": {
        "id": "o83gLGec_0W0",
        "colab_type": "code",
        "outputId": "adcaf219-2023-4d8d-876c-e69cedfc7c40",
        "colab": {
          "base_uri": "https://localhost:8080/",
          "height": 295
        }
      },
      "source": [
        "plt.plot(history_2.history['acc'])\n",
        "plt.title('model acc')\n",
        "plt.ylabel('acc')\n",
        "plt.xlabel('epoch')\n",
        "plt.show()"
      ],
      "execution_count": 0,
      "outputs": [
        {
          "output_type": "display_data",
          "data": {
            "image/png": "[encoded data removed]",
            "text/plain": [
              "<Figure size 432x288 with 1 Axes>"
            ]
          },
          "metadata": {
            "tags": []
          }
        }
      ]
    },
    {
      "cell_type": "markdown",
      "metadata": {
        "id": "Kdkv5tg2mTF9",
        "colab_type": "text"
      },
      "source": [
        "as we can see the model did pretty good its a jump from 49% to 77% , considered the fact that i havent experimented on the archtecture or hypertuned it in anyway . i just wanted to see how much of difference does it make by simple adding convolutional layer to the model."
      ]
    },
    {
      "cell_type": "markdown",
      "metadata": {
        "id": "lg3Kmf6v_E7L",
        "colab_type": "text"
      },
      "source": [
        "------------------------------------------------------------------------------------------------------------------"
      ]
    },
    {
      "cell_type": "markdown",
      "metadata": {
        "id": "Gm3hEcTiaeVN",
        "colab_type": "text"
      },
      "source": [
        "now as for the 3rd model we will build a neural network model that was build exclusively for omnilot dataset by Gregory Koch et al in their paper [link text](https://www.cs.cmu.edu/~rsalakhu/papers/oneshot1.pdf?source=post_page---------------------------)![alt text](https://miro.medium.com/max/2400/1*v40QXakPBOmiq4lCKbPu8w.png) \n",
        "\n",
        "the arch is a 5 CNN layers with maxpooling and activation relu the number of kernels and size at each layers are as shown in the diagram above..\n",
        "after the 5th CNN layer we flatten the input image and fully connect it to a dense layer of size 4096 \n",
        " here 4096 represent extracted feature vector of an input image.\n",
        " \n",
        " then as mentioned above we extract feature vector from a pair of images from the same CNN and we calculate absolute diffrernce (L_1 distance) between them and we sent that similarity score through another dense fully connected layer with one unit and activation function 'sigmoid' so that the similarity score ranges between 0 to 1 .. and output 0 means 'not' similar and 1 mean similar.\n",
        " \n",
        " "
      ]
    },
    {
      "cell_type": "code",
      "metadata": {
        "id": "dbpBE0Fa3IjD",
        "colab_type": "code",
        "colab": {}
      },
      "source": [
        " def get_siamese_model(input_shape):\n",
        "    \n",
        "    # tensors for the two input images\n",
        "    left_input = Input(input_shape)\n",
        "    right_input = Input(input_shape)\n",
        "    \n",
        "    # conv\n",
        "    model = Sequential()\n",
        "    model.add(Conv2D(64, (10, 10),activation='relu',input_shape=input_shape))\n",
        "    model.add(MaxPooling2D())\n",
        "    model.add(Conv2D(128, (7, 7),activation='relu'))\n",
        "    model.add(MaxPooling2D())\n",
        "    model.add(Conv2D(128, (4, 4),activation='relu'))\n",
        "    model.add(MaxPooling2D())\n",
        "    model.add(Conv2D(256, (4, 4),activation='relu'))\n",
        "    model.add(Flatten())\n",
        "    model.add(Dense(4096,activation='sigmoid'))\n",
        "    \n",
        "    # encodings (feature vectors) for the two images\n",
        "    left_encoding = model(left_input)\n",
        "    right_encoding = model(right_input)\n",
        "    \n",
        "    # customized layer to compute the absolute difference between the feature vectors\n",
        "    L1_layer = Lambda(lambda tensors:K.abs(tensors[0] - tensors[1]))\n",
        "    L1_distance = L1_layer([left_encoding, right_encoding])\n",
        "    \n",
        "    # dense layer with a sigmoid unit to generate the similarity score\n",
        "    prediction = Dense(1,activation='sigmoid')(L1_distance)\n",
        "    \n",
        "    # siamese model connecting the two inputs\n",
        "    siamese_model = Model(inputs=[left_input, right_input], outputs=prediction)\n",
        "    \n",
        "    return siamese_model"
      ],
      "execution_count": 0,
      "outputs": []
    },
    {
      "cell_type": "code",
      "metadata": {
        "id": "1lQzhT1y4VYD",
        "colab_type": "code",
        "outputId": "c38b6cff-3982-429c-8540-4925e397cf33",
        "colab": {
          "base_uri": "https://localhost:8080/",
          "height": 340
        }
      },
      "source": [
        "model = get_siamese_model((105, 105, 1)) \n",
        "model.summary()"
      ],
      "execution_count": 0,
      "outputs": [
        {
          "output_type": "stream",
          "text": [
            "__________________________________________________________________________________________________\n",
            "Layer (type)                    Output Shape         Param #     Connected to                     \n",
            "==================================================================================================\n",
            "input_6 (InputLayer)            (None, 105, 105, 1)  0                                            \n",
            "__________________________________________________________________________________________________\n",
            "input_7 (InputLayer)            (None, 105, 105, 1)  0                                            \n",
            "__________________________________________________________________________________________________\n",
            "sequential_2 (Sequential)       (None, 4096)         38947648    input_6[0][0]                    \n",
            "                                                                 input_7[0][0]                    \n",
            "__________________________________________________________________________________________________\n",
            "lambda_3 (Lambda)               (None, 4096)         0           sequential_2[1][0]               \n",
            "                                                                 sequential_2[2][0]               \n",
            "__________________________________________________________________________________________________\n",
            "dense_4 (Dense)                 (None, 1)            4097        lambda_3[0][0]                   \n",
            "==================================================================================================\n",
            "Total params: 38,951,745\n",
            "Trainable params: 38,951,745\n",
            "Non-trainable params: 0\n",
            "__________________________________________________________________________________________________\n"
          ],
          "name": "stdout"
        }
      ]
    },
    {
      "cell_type": "code",
      "metadata": {
        "id": "I6t43mhP4Z1g",
        "colab_type": "code",
        "outputId": "cd6aa8b2-7f10-4d47-b658-1c37b4f54129",
        "colab": {
          "base_uri": "https://localhost:8080/",
          "height": 1000
        }
      },
      "source": [
        "optimizer = Adam(lr=0.00005)\n",
        "model.compile(loss='binary_crossentropy', \n",
        "              optimizer=optimizer,\n",
        "              metrics=['accuracy'])\n",
        "history_3 = model.fit_generator(pair_generator(train_data, 32), steps_per_epoch=200, epochs=100)"
      ],
      "execution_count": 0,
      "outputs": [
        {
          "output_type": "stream",
          "text": [
            "Epoch 1/100\n",
            "200/200 [==============================] - 37s 186ms/step - loss: 0.6321 - acc: 0.6484\n",
            "Epoch 2/100\n",
            "200/200 [==============================] - 35s 174ms/step - loss: 0.5891 - acc: 0.6969\n",
            "Epoch 3/100\n",
            "200/200 [==============================] - 35s 175ms/step - loss: 0.5250 - acc: 0.7572\n",
            "Epoch 4/100\n",
            "200/200 [==============================] - 35s 175ms/step - loss: 0.4586 - acc: 0.8092\n",
            "Epoch 5/100\n",
            "200/200 [==============================] - 35s 174ms/step - loss: 0.4126 - acc: 0.8319\n",
            "Epoch 6/100\n",
            "200/200 [==============================] - 35s 175ms/step - loss: 0.3639 - acc: 0.8663\n",
            "Epoch 7/100\n",
            "200/200 [==============================] - 35s 175ms/step - loss: 0.3311 - acc: 0.8789\n",
            "Epoch 8/100\n",
            "200/200 [==============================] - 35s 175ms/step - loss: 0.3090 - acc: 0.8880\n",
            "Epoch 9/100\n",
            "200/200 [==============================] - 35s 174ms/step - loss: 0.3003 - acc: 0.8950\n",
            "Epoch 10/100\n",
            "200/200 [==============================] - 35s 175ms/step - loss: 0.2790 - acc: 0.9036\n",
            "Epoch 11/100\n",
            "200/200 [==============================] - 35s 175ms/step - loss: 0.2717 - acc: 0.9061\n",
            "Epoch 12/100\n",
            "200/200 [==============================] - 35s 175ms/step - loss: 0.2519 - acc: 0.9150\n",
            "Epoch 13/100\n",
            "200/200 [==============================] - 35s 175ms/step - loss: 0.2449 - acc: 0.9197\n",
            "Epoch 14/100\n",
            "200/200 [==============================] - 35s 175ms/step - loss: 0.2334 - acc: 0.9202\n",
            "Epoch 15/100\n",
            "200/200 [==============================] - 35s 175ms/step - loss: 0.2223 - acc: 0.9291\n",
            "Epoch 16/100\n",
            "200/200 [==============================] - 35s 174ms/step - loss: 0.2158 - acc: 0.9275\n",
            "Epoch 17/100\n",
            "200/200 [==============================] - 35s 175ms/step - loss: 0.2147 - acc: 0.9309\n",
            "Epoch 18/100\n",
            "200/200 [==============================] - 35s 174ms/step - loss: 0.1998 - acc: 0.9341\n",
            "Epoch 19/100\n",
            "200/200 [==============================] - 35s 175ms/step - loss: 0.1878 - acc: 0.9422\n",
            "Epoch 20/100\n",
            "200/200 [==============================] - 35s 175ms/step - loss: 0.1817 - acc: 0.9448\n",
            "Epoch 21/100\n",
            "200/200 [==============================] - 35s 175ms/step - loss: 0.1795 - acc: 0.9425\n",
            "Epoch 22/100\n",
            "200/200 [==============================] - 35s 174ms/step - loss: 0.1694 - acc: 0.9481\n",
            "Epoch 23/100\n",
            "200/200 [==============================] - 35s 174ms/step - loss: 0.1744 - acc: 0.9477\n",
            "Epoch 24/100\n",
            "200/200 [==============================] - 35s 174ms/step - loss: 0.1689 - acc: 0.9505\n",
            "Epoch 25/100\n",
            "200/200 [==============================] - 35s 174ms/step - loss: 0.1612 - acc: 0.9519\n",
            "Epoch 26/100\n",
            "200/200 [==============================] - 35s 174ms/step - loss: 0.1577 - acc: 0.9531\n",
            "Epoch 27/100\n",
            "200/200 [==============================] - 35s 174ms/step - loss: 0.1498 - acc: 0.9552\n",
            "Epoch 28/100\n",
            "200/200 [==============================] - 35s 174ms/step - loss: 0.1343 - acc: 0.9620\n",
            "Epoch 29/100\n",
            "200/200 [==============================] - 35s 174ms/step - loss: 0.1395 - acc: 0.9620\n",
            "Epoch 30/100\n",
            "200/200 [==============================] - 35s 174ms/step - loss: 0.1360 - acc: 0.9609\n",
            "Epoch 31/100\n",
            "200/200 [==============================] - 35s 174ms/step - loss: 0.1340 - acc: 0.9617\n",
            "Epoch 32/100\n",
            "200/200 [==============================] - 35s 174ms/step - loss: 0.1322 - acc: 0.9625\n",
            "Epoch 33/100\n",
            "200/200 [==============================] - 35s 174ms/step - loss: 0.1377 - acc: 0.9595\n",
            "Epoch 34/100\n",
            "200/200 [==============================] - 35s 174ms/step - loss: 0.1345 - acc: 0.9602\n",
            "Epoch 35/100\n",
            "200/200 [==============================] - 35s 174ms/step - loss: 0.1256 - acc: 0.9633\n",
            "Epoch 36/100\n",
            "200/200 [==============================] - 35s 174ms/step - loss: 0.1219 - acc: 0.9636\n",
            "Epoch 37/100\n",
            "200/200 [==============================] - 35s 175ms/step - loss: 0.1222 - acc: 0.9648\n",
            "Epoch 38/100\n",
            "200/200 [==============================] - 35s 174ms/step - loss: 0.1126 - acc: 0.9700\n",
            "Epoch 39/100\n",
            "200/200 [==============================] - 35s 175ms/step - loss: 0.1206 - acc: 0.9658\n",
            "Epoch 40/100\n",
            "200/200 [==============================] - 35s 174ms/step - loss: 0.1207 - acc: 0.9677\n",
            "Epoch 41/100\n",
            "200/200 [==============================] - 35s 174ms/step - loss: 0.1059 - acc: 0.9719\n",
            "Epoch 42/100\n",
            "200/200 [==============================] - 35s 175ms/step - loss: 0.1068 - acc: 0.9709\n",
            "Epoch 43/100\n",
            "200/200 [==============================] - 35s 175ms/step - loss: 0.1096 - acc: 0.9691\n",
            "Epoch 44/100\n",
            "200/200 [==============================] - 35s 175ms/step - loss: 0.1085 - acc: 0.9706\n",
            "Epoch 45/100\n",
            "200/200 [==============================] - 35s 174ms/step - loss: 0.1096 - acc: 0.9688\n",
            "Epoch 46/100\n",
            "200/200 [==============================] - 35s 175ms/step - loss: 0.0998 - acc: 0.9736\n",
            "Epoch 47/100\n",
            "200/200 [==============================] - 35s 174ms/step - loss: 0.1057 - acc: 0.9742\n",
            "Epoch 48/100\n",
            "200/200 [==============================] - 35s 174ms/step - loss: 0.0963 - acc: 0.9759\n",
            "Epoch 49/100\n",
            "200/200 [==============================] - 35s 174ms/step - loss: 0.1000 - acc: 0.9750\n",
            "Epoch 50/100\n",
            "200/200 [==============================] - 35s 174ms/step - loss: 0.0926 - acc: 0.9758\n",
            "Epoch 51/100\n",
            "200/200 [==============================] - 35s 175ms/step - loss: 0.0870 - acc: 0.9769\n",
            "Epoch 52/100\n",
            "200/200 [==============================] - 35s 174ms/step - loss: 0.0936 - acc: 0.9744\n",
            "Epoch 53/100\n",
            "200/200 [==============================] - 35s 174ms/step - loss: 0.0860 - acc: 0.9794\n",
            "Epoch 54/100\n",
            "200/200 [==============================] - 35s 175ms/step - loss: 0.0866 - acc: 0.9783\n",
            "Epoch 55/100\n",
            "200/200 [==============================] - 35s 175ms/step - loss: 0.0970 - acc: 0.9738\n",
            "Epoch 56/100\n",
            "200/200 [==============================] - 35s 174ms/step - loss: 0.0903 - acc: 0.9756\n",
            "Epoch 57/100\n",
            "200/200 [==============================] - 35s 174ms/step - loss: 0.0813 - acc: 0.9812\n",
            "Epoch 58/100\n",
            "200/200 [==============================] - 35s 175ms/step - loss: 0.0838 - acc: 0.9786\n",
            "Epoch 59/100\n",
            "200/200 [==============================] - 35s 174ms/step - loss: 0.0831 - acc: 0.9788\n",
            "Epoch 60/100\n",
            "200/200 [==============================] - 35s 174ms/step - loss: 0.0740 - acc: 0.9831\n",
            "Epoch 61/100\n",
            "200/200 [==============================] - 35s 175ms/step - loss: 0.0771 - acc: 0.9814\n",
            "Epoch 62/100\n",
            "200/200 [==============================] - 35s 175ms/step - loss: 0.0832 - acc: 0.9794\n",
            "Epoch 63/100\n",
            "200/200 [==============================] - 35s 175ms/step - loss: 0.0804 - acc: 0.9770\n",
            "Epoch 64/100\n",
            "200/200 [==============================] - 35s 175ms/step - loss: 0.0705 - acc: 0.9833\n",
            "Epoch 65/100\n",
            "200/200 [==============================] - 35s 174ms/step - loss: 0.0809 - acc: 0.9830\n",
            "Epoch 66/100\n",
            "200/200 [==============================] - 35s 175ms/step - loss: 0.0686 - acc: 0.9837\n",
            "Epoch 67/100\n",
            "200/200 [==============================] - 35s 175ms/step - loss: 0.0709 - acc: 0.9850\n",
            "Epoch 68/100\n",
            "200/200 [==============================] - 35s 174ms/step - loss: 0.0748 - acc: 0.9820\n",
            "Epoch 69/100\n",
            "200/200 [==============================] - 35s 175ms/step - loss: 0.0666 - acc: 0.9848\n",
            "Epoch 70/100\n",
            "200/200 [==============================] - 35s 175ms/step - loss: 0.0781 - acc: 0.9792\n",
            "Epoch 71/100\n",
            "200/200 [==============================] - 35s 174ms/step - loss: 0.0721 - acc: 0.9803\n",
            "Epoch 72/100\n",
            "200/200 [==============================] - 35s 175ms/step - loss: 0.0643 - acc: 0.9841\n",
            "Epoch 73/100\n",
            "200/200 [==============================] - 35s 175ms/step - loss: 0.0689 - acc: 0.9834\n",
            "Epoch 74/100\n",
            "200/200 [==============================] - 35s 174ms/step - loss: 0.0695 - acc: 0.9809\n",
            "Epoch 75/100\n",
            "200/200 [==============================] - 35s 174ms/step - loss: 0.0705 - acc: 0.9827\n",
            "Epoch 76/100\n",
            "200/200 [==============================] - 35s 175ms/step - loss: 0.0736 - acc: 0.9817\n",
            "Epoch 77/100\n",
            "200/200 [==============================] - 35s 174ms/step - loss: 0.0631 - acc: 0.9861\n",
            "Epoch 78/100\n",
            "200/200 [==============================] - 35s 175ms/step - loss: 0.0635 - acc: 0.9842\n",
            "Epoch 79/100\n",
            "200/200 [==============================] - 35s 174ms/step - loss: 0.0623 - acc: 0.9863\n",
            "Epoch 80/100\n",
            "200/200 [==============================] - 35s 174ms/step - loss: 0.0633 - acc: 0.9855\n",
            "Epoch 81/100\n",
            "200/200 [==============================] - 35s 174ms/step - loss: 0.0660 - acc: 0.9850\n",
            "Epoch 82/100\n",
            "200/200 [==============================] - 35s 174ms/step - loss: 0.0625 - acc: 0.9845\n",
            "Epoch 83/100\n",
            "200/200 [==============================] - 35s 174ms/step - loss: 0.0637 - acc: 0.9833\n",
            "Epoch 84/100\n",
            "200/200 [==============================] - 35s 174ms/step - loss: 0.0647 - acc: 0.9866\n",
            "Epoch 85/100\n",
            "200/200 [==============================] - 35s 175ms/step - loss: 0.0618 - acc: 0.9861\n",
            "Epoch 86/100\n",
            "200/200 [==============================] - 35s 174ms/step - loss: 0.0656 - acc: 0.9858\n",
            "Epoch 87/100\n",
            "200/200 [==============================] - 35s 174ms/step - loss: 0.0614 - acc: 0.9858\n",
            "Epoch 88/100\n",
            "200/200 [==============================] - 35s 174ms/step - loss: 0.0637 - acc: 0.9842\n",
            "Epoch 89/100\n",
            "200/200 [==============================] - 35s 174ms/step - loss: 0.0670 - acc: 0.9842\n",
            "Epoch 90/100\n",
            "200/200 [==============================] - 35s 174ms/step - loss: 0.0663 - acc: 0.9852\n",
            "Epoch 91/100\n",
            "200/200 [==============================] - 35s 174ms/step - loss: 0.0546 - acc: 0.9872\n",
            "Epoch 92/100\n",
            "200/200 [==============================] - 35s 175ms/step - loss: 0.0649 - acc: 0.9841\n",
            "Epoch 93/100\n",
            "200/200 [==============================] - 35s 174ms/step - loss: 0.0585 - acc: 0.9858\n",
            "Epoch 94/100\n",
            "200/200 [==============================] - 35s 174ms/step - loss: 0.0518 - acc: 0.9881\n",
            "Epoch 95/100\n",
            "200/200 [==============================] - 35s 175ms/step - loss: 0.0569 - acc: 0.9883\n",
            "Epoch 96/100\n",
            "200/200 [==============================] - 35s 174ms/step - loss: 0.0537 - acc: 0.9872\n",
            "Epoch 97/100\n",
            "200/200 [==============================] - 35s 175ms/step - loss: 0.0596 - acc: 0.9858\n",
            "Epoch 98/100\n",
            "200/200 [==============================] - 35s 174ms/step - loss: 0.0606 - acc: 0.9872\n",
            "Epoch 99/100\n",
            "200/200 [==============================] - 35s 174ms/step - loss: 0.0518 - acc: 0.9891\n",
            "Epoch 100/100\n",
            "200/200 [==============================] - 35s 174ms/step - loss: 0.0502 - acc: 0.9886\n"
          ],
          "name": "stdout"
        }
      ]
    },
    {
      "cell_type": "code",
      "metadata": {
        "id": "pICPT1KgSPbM",
        "colab_type": "code",
        "outputId": "c2147f14-07ab-45ab-de5f-0173d32ab4c4",
        "colab": {
          "base_uri": "https://localhost:8080/",
          "height": 295
        }
      },
      "source": [
        "plt.plot(history_3.history['acc'])\n",
        "plt.title('model acc')\n",
        "plt.ylabel('acc')\n",
        "plt.xlabel('epoch')\n",
        "plt.show()"
      ],
      "execution_count": 0,
      "outputs": [
        {
          "output_type": "display_data",
          "data": {
            "image/png": "[encoded data removed]",
            "text/plain": [
              "<Figure size 432x288 with 1 Axes>"
            ]
          },
          "metadata": {
            "tags": []
          }
        }
      ]
    },
    {
      "cell_type": "markdown",
      "metadata": {
        "id": "TSFwKR6xnV__",
        "colab_type": "text"
      },
      "source": [
        "from 49% to 78% to 98% (almost or close enough SOTA )its the most significant jump made CNN models. \n",
        "clearly this model is the best .Gregory Koch et al experimented and fine tuned to this CNN model to extract best feature vectors that defines the image. "
      ]
    },
    {
      "cell_type": "code",
      "metadata": {
        "id": "JIpZbGJEeS_r",
        "colab_type": "code",
        "outputId": "dfdd713a-b814-4ca0-e691-a70b3bafdaca",
        "colab": {
          "base_uri": "https://localhost:8080/",
          "height": 295
        }
      },
      "source": [
        "plt.plot(history_1.history['acc'], label = 'model_1')\n",
        "plt.plot(history_2.history['acc'], label = 'model_2')\n",
        "plt.plot(history_3.history['acc'], label = 'model_3')\n",
        "plt.legend(['model_1','model_2' ,'model_3'], loc='upper left')\n",
        "plt.title('model acc')\n",
        "plt.ylabel('acc')\n",
        "plt.xlabel('epoch')\n",
        "plt.show()\n"
      ],
      "execution_count": 0,
      "outputs": [
        {
          "output_type": "display_data",
          "data": {
            "image/png": "[encoded data removed]",
            "text/plain": [
              "<Figure size 432x288 with 1 Axes>"
            ]
          },
          "metadata": {
            "tags": []
          }
        }
      ]
    },
    {
      "cell_type": "markdown",
      "metadata": {
        "id": "Yt9gpl7P75yj",
        "colab_type": "text"
      },
      "source": [
        ""
      ]
    },
    {
      "cell_type": "code",
      "metadata": {
        "id": "jiPZj3QpRIqb",
        "colab_type": "code",
        "colab": {}
      },
      "source": [
        "def get_one_shot(data, num):\n",
        "  total_size = sum(data['sizes'])\n",
        "  prob = [size / total_size for size in data['sizes']]\n",
        "  \n",
        "  left_input = np.zeros((num, 105, 105, 1))\n",
        "  right_input = np.zeros((num, 105, 105, 1))\n",
        "  \n",
        "  right_choices = []\n",
        "  \n",
        "  # select random alphabet with prob \n",
        "  #   (its number of characters / total number of characters)\n",
        "  left_alphabet_name = np.random.choice(data['names'], p=prob)\n",
        "  # select random character\n",
        "  left_character_idx = np.random.randint(low = 0, high = data[left_alphabet_name]['size'])\n",
        "  # select random example\n",
        "  left_example_idx = np.random.randint(low = 0, high = 20) \n",
        "  \n",
        "  left_choice = (left_alphabet_name, left_character_idx, left_example_idx)\n",
        "  \n",
        "  for idx in np.arange(num):\n",
        "    if idx == 0:\n",
        "      right_alphabet_name = left_alphabet_name\n",
        "      right_character_idx = left_character_idx\n",
        "    else:\n",
        "      while True:\n",
        "        # select random alphabet\n",
        "        right_alphabet_name = np.random.choice(data['names'], p=prob)\n",
        "        # select random character\n",
        "        right_character_idx = np.random.randint(low = 0, high = data[right_alphabet_name]['size'])\n",
        "        if left_alphabet_name != right_alphabet_name or left_character_idx != right_character_idx:\n",
        "          break\n",
        "\n",
        "    # select random example\n",
        "    right_example_idx = np.random.randint(low = 0, high = 20)\n",
        "    \n",
        "    left_input[idx, :, :, :] = data[left_alphabet_name][(left_character_idx, left_example_idx)].reshape((105, 105, 1))\n",
        "    right_input[idx, :, :, :] = data[right_alphabet_name][(right_character_idx, right_example_idx)].reshape((105, 105, 1))\n",
        "  \n",
        "    right_choices.append((right_alphabet_name, right_character_idx, right_example_idx))\n",
        "  \n",
        "  \n",
        "  return [left_input, right_input], left_choice, right_choices"
      ],
      "execution_count": 0,
      "outputs": []
    },
    {
      "cell_type": "code",
      "metadata": {
        "id": "WJAFIpakFAnu",
        "colab_type": "code",
        "colab": {}
      },
      "source": [
        "def display_one_shot(model, data, num):\n",
        "  pairs, left_choice, right_choices = get_one_shot(val_data, num)\n",
        "  similarity_scores = model.predict(pairs)\n",
        "  best_idx = np.argmax(similarity_scores)\n",
        "  num = len(right_choices)\n",
        "  size = math.ceil(math.sqrt(num))\n",
        "  plt.figure(figsize=(10, 10))\n",
        "  # left choice\n",
        "  plt.subplot(size + 1, size + 1, 1)\n",
        "  plt.xticks([])\n",
        "  plt.yticks([])\n",
        "  plt.grid(False)\n",
        "  alphabet_name, character_idx, example_idx = left_choice\n",
        "  plt.imshow(data[alphabet_name][(character_idx, example_idx)], cmap='gray_r')\n",
        "  \n",
        "  # right choices\n",
        "  for row in range(size):\n",
        "    for col in range(size):\n",
        "      idx = row * size + col\n",
        "      if idx < num:\n",
        "        alphabet_name, character_idx, example_idx = right_choices[idx]\n",
        "        plt.subplot(size + 1, size + 1, (size + 1) * row + col + 2)\n",
        "        plt.xticks([])\n",
        "        plt.yticks([])\n",
        "        plt.grid(False)\n",
        "        if idx == best_idx:\n",
        "          if best_idx == 0:\n",
        "            color = 'green'\n",
        "          else:\n",
        "            color = 'red'\n",
        "        else:\n",
        "          color = 'black'\n",
        "        plt.title('{0:.4f}'.format(similarity_scores[row * size + col, 0]), color=color)\n",
        "        plt.imshow(data[alphabet_name][(character_idx, example_idx)], cmap='gray_r')\n",
        "  plt.show()"
      ],
      "execution_count": 0,
      "outputs": []
    },
    {
      "cell_type": "code",
      "metadata": {
        "id": "Vic9pn3H01X2",
        "colab_type": "code",
        "outputId": "d570956a-810b-4d60-e062-f72938a5a653",
        "colab": {
          "base_uri": "https://localhost:8080/",
          "height": 408
        }
      },
      "source": [
        "# using model_3 to predict 20 way one shot learning.\n",
        "display_one_shot(model, val_data, 20)"
      ],
      "execution_count": 0,
      "outputs": [
        {
          "output_type": "display_data",
          "data": {
            "image/png": "[encoded data removed]",
            "text/plain": [
              "<Figure size 720x720 with 21 Axes>"
            ]
          },
          "metadata": {
            "tags": []
          }
        }
      ]
    },
    {
      "cell_type": "code",
      "metadata": {
        "id": "qjNkSOAK03wn",
        "colab_type": "code",
        "outputId": "9bd60652-e5cb-4878-ea4b-f691d5fdfb4c",
        "colab": {
          "base_uri": "https://localhost:8080/",
          "height": 408
        }
      },
      "source": [
        "display_one_shot(model, val_data, 20)"
      ],
      "execution_count": 0,
      "outputs": [
        {
          "output_type": "display_data",
          "data": {
            "image/png": "[encoded data removed]",
            "text/plain": [
              "<Figure size 720x720 with 21 Axes>"
            ]
          },
          "metadata": {
            "tags": []
          }
        }
      ]
    },
    {
      "cell_type": "code",
      "metadata": {
        "id": "IVwjelRV08SO",
        "colab_type": "code",
        "outputId": "e8ed5f9a-578f-4324-b54f-a9d6e1e63a6f",
        "colab": {
          "base_uri": "https://localhost:8080/",
          "height": 408
        }
      },
      "source": [
        "display_one_shot(model, val_data, 20)"
      ],
      "execution_count": 0,
      "outputs": [
        {
          "output_type": "display_data",
          "data": {
            "image/png": "[encoded data removed]",
            "text/plain": [
              "<Figure size 720x720 with 21 Axes>"
            ]
          },
          "metadata": {
            "tags": []
          }
        }
      ]
    },
    {
      "cell_type": "code",
      "metadata": {
        "id": "W-4fJE6cOY2v",
        "colab_type": "code",
        "outputId": "24d60c86-1719-4879-9965-48d4ef7da7fe",
        "colab": {
          "base_uri": "https://localhost:8080/",
          "height": 408
        }
      },
      "source": [
        "display_one_shot(model, val_data, 20)"
      ],
      "execution_count": 0,
      "outputs": [
        {
          "output_type": "display_data",
          "data": {
            "image/png": "[encoded data removed]",
            "text/plain": [
              "<Figure size 720x720 with 21 Axes>"
            ]
          },
          "metadata": {
            "tags": []
          }
        }
      ]
    },
    {
      "cell_type": "code",
      "metadata": {
        "id": "PVTaFs6n8lN-",
        "colab_type": "code",
        "outputId": "0801f9e7-0911-4984-9de7-553d827f675c",
        "colab": {
          "base_uri": "https://localhost:8080/",
          "height": 408
        }
      },
      "source": [
        "display_one_shot(model, val_data, 20)"
      ],
      "execution_count": 0,
      "outputs": [
        {
          "output_type": "display_data",
          "data": {
            "image/png": "[encoded data removed]",
            "text/plain": [
              "<Figure size 720x720 with 21 Axes>"
            ]
          },
          "metadata": {
            "tags": []
          }
        }
      ]
    },
    {
      "cell_type": "code",
      "metadata": {
        "id": "9izRSOuk8nIw",
        "colab_type": "code",
        "colab": {}
      },
      "source": [
        ""
      ],
      "execution_count": 0,
      "outputs": []
    }
  ]
}